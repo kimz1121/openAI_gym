{
 "cells": [
  {
   "cell_type": "code",
   "execution_count": null,
   "metadata": {},
   "outputs": [],
   "source": [
    "observation_sapce_size = 8\n",
    "action_space_size = 4\n",
    "sequence_length = 1\n",
    "\n",
    "action_model = tf.keras.Sequential()\n",
    "action_model.add(tf.keras.Input(shape=(observation_sapce_size*sequence_length)))#입력 레이어\n",
    "# action_model.add(tf.keras.layers.Dense(128, activation='relu'))\n",
    "action_model.add(tf.keras.layers.Dense(64, activation='relu'))\n",
    "action_model.add(tf.keras.layers.Dense(64, activation='relu'))\n",
    "action_model.add(tf.keras.layers.Dense(64, activation='relu'))\n",
    "# action_model.add(tf.keras.layers.Dense(16, activation='relu'))\n",
    "action_model.add(tf.keras.layers.Dense(action_space_size, activation='linear'))#출력 레이어\n",
    "# action_model.compile(loss='mse', optimizer=tf.keras.optimizers.legacy.SGD())\n",
    "# action_model.compile(loss=tf.keras.losses.Huber(), optimizer=tf.keras.optimizers.legacy.SGD())\n",
    "action_model.compile(loss='mse', optimizer=tf.keras.optimizers.legacy.Adam())\n",
    "# action_model.compile(loss=tf.keras.losses.Huber(), optimizer=tf.keras.optimizers.legacy.Adam())\n",
    "\n",
    "target_model = tf.keras.Sequential()\n",
    "target_model.add(tf.keras.Input(shape=(observation_sapce_size*sequence_length)))#입력 레이어\n",
    "# target_model.add(tf.keras.layers.Dense(128, activation='relu'))\n",
    "target_model.add(tf.keras.layers.Dense(64, activation='relu'))\n",
    "target_model.add(tf.keras.layers.Dense(64, activation='relu'))\n",
    "target_model.add(tf.keras.layers.Dense(64, activation='relu'))\n",
    "# target_model.add(tf.keras.layers.Dense(16, activation='relu'))\n",
    "target_model.add(tf.keras.layers.Dense(action_space_size, activation='linear'))#출력 레이어\n",
    "# target_model.compile(loss='mse', optimizer=tf.keras.optimizers.legacy.SGD())\n",
    "# target_model.compile(loss=tf.keras.losses.Huber(), optimizer=tf.keras.optimizers.legacy.SGD())\n",
    "target_model.compile(loss='mse', optimizer=tf.keras.optimizers.legacy.Adam())\n",
    "# target_model.compile(loss=tf.keras.losses.Huber(), optimizer=tf.keras.optimizers.legacy.Adam())\n",
    "\n",
    "\n",
    "target_model.summary()"
   ]
  }
 ],
 "metadata": {
  "language_info": {
   "name": "python"
  },
  "orig_nbformat": 4
 },
 "nbformat": 4,
 "nbformat_minor": 2
}
